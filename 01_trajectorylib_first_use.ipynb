{
 "cells": [
  {
   "cell_type": "code",
   "execution_count": 1,
   "metadata": {},
   "outputs": [],
   "source": [
    "from trajectorylib.ml.model import CNN\n",
    "from trajectorylib.ml.data_process import SlidingWindowDataProcessor\n",
    "from trajectorylib.ml.trainer import SlidingWindowTrainer\n",
    "from sklearn.metrics import accuracy_score"
   ]
  },
  {
   "cell_type": "code",
   "execution_count": 2,
   "metadata": {},
   "outputs": [],
   "source": [
    "import os\n",
    "import random\n",
    "import pandas as pd\n",
    "import torch\n",
    "import torch.nn as nn\n",
    "import torch.optim as optim\n",
    "from torch.optim.lr_scheduler import ReduceLROnPlateau"
   ]
  },
  {
   "cell_type": "markdown",
   "metadata": {},
   "source": [
    "## Loading Data"
   ]
  },
  {
   "cell_type": "code",
   "execution_count": 3,
   "metadata": {},
   "outputs": [],
   "source": [
    "data_folder = '/home/trijya/Dataset/DrivingData/'"
   ]
  },
  {
   "cell_type": "code",
   "execution_count": 4,
   "metadata": {},
   "outputs": [
    {
     "name": "stdout",
     "output_type": "stream",
     "text": [
      "Training set:\n",
      "['/home/trijya/Dataset/DrivingData/2020-06-19-11-44-25_2T3MWRFVXLW056972_CAN_Messages_20Hz.csv', '/home/trijya/Dataset/DrivingData/2020-07-25-10-03-01_2T3MWRFVXLW056972_CAN_Messages_20Hz.csv', '/home/trijya/Dataset/DrivingData/2020-06-19-11-57-48_2T3MWRFVXLW056972_CAN_Messages_20Hz.csv', '/home/trijya/Dataset/DrivingData/2020-07-25-15-25-40_2T3MWRFVXLW056972_CAN_Messages_20Hz.csv', '/home/trijya/Dataset/DrivingData/2020-07-19-13-58-00_2T3MWRFVXLW056972_CAN_Messages_20Hz.csv', '/home/trijya/Dataset/DrivingData/2020-07-25-19-22-30_2T3MWRFVXLW056972_CAN_Messages_20Hz.csv', '/home/trijya/Dataset/DrivingData/2020-07-26-18-54-32_2T3Y1RFV8KC014025_CAN_Messages_20Hz.csv', '/home/trijya/Dataset/DrivingData/2020-07-22-09-36-00_2T3MWRFVXLW056972_CAN_Messages_20Hz.csv', '/home/trijya/Dataset/DrivingData/2020-07-17-10-00-46_2T3MWRFVXLW056972_CAN_Messages_20Hz.csv', '/home/trijya/Dataset/DrivingData/2020-07-08-12-55-56_2T3MWRFVXLW056972_CAN_Messages_20Hz.csv', '/home/trijya/Dataset/DrivingData/2020-07-25-08-56-10_2T3MWRFVXLW056972_CAN_Messages_20Hz.csv', '/home/trijya/Dataset/DrivingData/2020-07-15-12-12-32_2T3Y1RFV8KC014025_CAN_Messages_20Hz.csv', '/home/trijya/Dataset/DrivingData/2020-07-18-12-58-25_2T3Y1RFV8KC014025_CAN_Messages_20Hz.csv', '/home/trijya/Dataset/DrivingData/2020-07-27-08-05-31_2T3MWRFVXLW056972_CAN_Messages_20Hz.csv', '/home/trijya/Dataset/DrivingData/2020-07-08-13-15-54_2T3MWRFVXLW056972_CAN_Messages_20Hz.csv', '/home/trijya/Dataset/DrivingData/2020-07-21-15-30-09_2T3Y1RFV8KC014025_CAN_Messages_20Hz.csv', '/home/trijya/Dataset/DrivingData/2020-07-10-15-01-11_2T3MWRFVXLW056972_CAN_Messages_20Hz.csv', '/home/trijya/Dataset/DrivingData/2020-07-25-10-50-30_2T3MWRFVXLW056972_CAN_Messages_20Hz.csv', '/home/trijya/Dataset/DrivingData/2020-07-26-16-35-44_2T3Y1RFV8KC014025_CAN_Messages_20Hz.csv', '/home/trijya/Dataset/DrivingData/2020-07-25-18-46-29_2T3MWRFVXLW056972_CAN_Messages_20Hz.csv', '/home/trijya/Dataset/DrivingData/2020-07-21-15-53-00_2T3Y1RFV8KC014025_CAN_Messages_20Hz.csv', '/home/trijya/Dataset/DrivingData/2020-07-21-14-58-24_2T3Y1RFV8KC014025_CAN_Messages_20Hz.csv', '/home/trijya/Dataset/DrivingData/2020-07-22-12-12-30_2T3Y1RFV8KC014025_CAN_Messages_20Hz.csv', '/home/trijya/Dataset/DrivingData/2020-07-21-14-33-23_2T3Y1RFV8KC014025_CAN_Messages_20Hz.csv', '/home/trijya/Dataset/DrivingData/2020-07-08-15-15-54_2T3MWRFVXLW056972_CAN_Messages_20Hz.csv', '/home/trijya/Dataset/DrivingData/2020-07-25-10-56-00_2T3MWRFVXLW056972_CAN_Messages_20Hz.csv']\n",
      "Number of files in training set: 26\n",
      "Total number of CSV files: 33\n"
     ]
    }
   ],
   "source": [
    "import os\n",
    "import random\n",
    "\n",
    "data_folder = '/home/trijya/Dataset/DrivingData/'\n",
    "\n",
    "# Get a list of all CSV files in the data folder with full paths\n",
    "csv_files = [os.path.join(data_folder, f) for f in os.listdir(data_folder) if f.endswith('.csv')]\n",
    "\n",
    "# Select 80% of the files randomly\n",
    "training_set = random.sample(csv_files, int(len(csv_files) * 0.8))\n",
    "\n",
    "print(\"Training set:\")\n",
    "print(training_set)\n",
    "\n",
    "print(\"Number of files in training set:\", len(training_set))\n",
    "print(\"Total number of CSV files:\", len(csv_files))"
   ]
  },
  {
   "cell_type": "code",
   "execution_count": 5,
   "metadata": {},
   "outputs": [
    {
     "name": "stdout",
     "output_type": "stream",
     "text": [
      "Test set:\n",
      "['/home/trijya/Dataset/DrivingData/2020-07-19-14-31-15_2T3MWRFVXLW056972_CAN_Messages_20Hz.csv', '/home/trijya/Dataset/DrivingData/2020-07-27-07-20-11_2T3MWRFVXLW056972_CAN_Messages_20Hz.csv', '/home/trijya/Dataset/DrivingData/2020-07-18-13-18-27_2T3Y1RFV8KC014025_CAN_Messages_20Hz.csv', '/home/trijya/Dataset/DrivingData/2020-07-10-11-04-30_2T3MWRFVXLW056972_CAN_Messages_20Hz.csv', '/home/trijya/Dataset/DrivingData/2020-07-08-14-55-56_2T3MWRFVXLW056972_CAN_Messages_20Hz.csv', '/home/trijya/Dataset/DrivingData/2020-07-15-10-41-40_2T3Y1RFV8KC014025_CAN_Messages_20Hz.csv', '/home/trijya/Dataset/DrivingData/2020-07-19-14-01-00_2T3MWRFVXLW056972_CAN_Messages_20Hz.csv']\n"
     ]
    }
   ],
   "source": [
    "# Get the remaining files for test set\n",
    "test_set = [f for f in csv_files if f not in training_set]\n",
    "print(\"Test set:\")\n",
    "print(test_set)"
   ]
  },
  {
   "cell_type": "markdown",
   "metadata": {},
   "source": [
    "## Preparing data for the model"
   ]
  },
  {
   "cell_type": "code",
   "execution_count": 6,
   "metadata": {},
   "outputs": [],
   "source": [
    "window_size = 6\n",
    "dataprocessor = SlidingWindowDataProcessor(training_set, window_size=window_size)\n",
    "dataprocessor.process_file_list()"
   ]
  },
  {
   "cell_type": "code",
   "execution_count": 7,
   "metadata": {},
   "outputs": [],
   "source": [
    "# Check for GPU availability\n",
    "device = torch.device('cuda' if torch.cuda.is_available() else 'cpu')"
   ]
  },
  {
   "cell_type": "code",
   "execution_count": 8,
   "metadata": {},
   "outputs": [
    {
     "name": "stdout",
     "output_type": "stream",
     "text": [
      "Window Size: 6\n",
      "Number of input feature: 2\n"
     ]
    }
   ],
   "source": [
    "# Create an instance of the CNN model\n",
    "model = CNN(window_size=window_size, dropout_rate=0.2, n_features=dataprocessor.all_X[0].shape[1], n_filters=32, n_fc_unit = 64)"
   ]
  },
  {
   "cell_type": "code",
   "execution_count": 9,
   "metadata": {},
   "outputs": [
    {
     "data": {
      "text/plain": [
       "CNN(\n",
       "  (conv1): Conv2d(1, 32, kernel_size=(2, 2), stride=(1, 1))\n",
       "  (pool): MaxPool2d(kernel_size=(1, 1), stride=(1, 1), padding=0, dilation=1, ceil_mode=False)\n",
       "  (flatten): Flatten(start_dim=1, end_dim=-1)\n",
       "  (fc1): Linear(in_features=160, out_features=64, bias=True)\n",
       "  (dropout): Dropout(p=0.2, inplace=False)\n",
       "  (fc2): Linear(in_features=64, out_features=1, bias=True)\n",
       "  (sigmoid): Sigmoid()\n",
       ")"
      ]
     },
     "execution_count": 9,
     "metadata": {},
     "output_type": "execute_result"
    }
   ],
   "source": [
    "model"
   ]
  },
  {
   "cell_type": "markdown",
   "metadata": {},
   "source": [
    "## Training the model"
   ]
  },
  {
   "cell_type": "code",
   "execution_count": 10,
   "metadata": {},
   "outputs": [],
   "source": [
    "result_folder = \"acc_cnn_training\""
   ]
  },
  {
   "cell_type": "code",
   "execution_count": 11,
   "metadata": {},
   "outputs": [],
   "source": [
    "trainer = SlidingWindowTrainer(result_folder=result_folder, \n",
    "                               model = model, \n",
    "                               device = device,\n",
    "                               data_processor=dataprocessor)"
   ]
  },
  {
   "cell_type": "code",
   "execution_count": 12,
   "metadata": {},
   "outputs": [
    {
     "data": {
      "text/plain": [
       "302265"
      ]
     },
     "execution_count": 12,
     "metadata": {},
     "output_type": "execute_result"
    }
   ],
   "source": [
    "len(trainer.data_processor.all_X)"
   ]
  },
  {
   "cell_type": "code",
   "execution_count": 13,
   "metadata": {},
   "outputs": [
    {
     "data": {
      "text/plain": [
       "(6, 2)"
      ]
     },
     "execution_count": 13,
     "metadata": {},
     "output_type": "execute_result"
    }
   ],
   "source": [
    "trainer.data_processor.all_X[0].shape"
   ]
  },
  {
   "cell_type": "code",
   "execution_count": 14,
   "metadata": {},
   "outputs": [],
   "source": [
    "# Define Loss and optimizer\n",
    "criterion = nn.BCELoss()\n",
    "optimizer = optim.Adam(model.parameters(), lr=0.001)\n",
    "#Define Learning Rate Scheduler\n",
    "scheduler = ReduceLROnPlateau(optimizer, mode = 'min', factor=0.1, patience=10, min_lr=1e-6)"
   ]
  },
  {
   "cell_type": "code",
   "execution_count": 15,
   "metadata": {},
   "outputs": [
    {
     "name": "stdout",
     "output_type": "stream",
     "text": [
      "Shape of X before reshaping: (302265, 6, 2)\n",
      "Shape of Y before reshaping: (302265,)\n",
      "Current learning rate: 0.001000\n",
      "Epoch [1/40], Loss: 0.3539, Accuracy: 0.8720, Val Loss: 0.3404, Val Accuracy: 0.8695\n",
      "Current learning rate: 0.001000\n",
      "Epoch [2/40], Loss: 0.3368, Accuracy: 0.8724, Val Loss: 0.3334, Val Accuracy: 0.8695\n",
      "Current learning rate: 0.001000\n",
      "Epoch [3/40], Loss: 0.3324, Accuracy: 0.8725, Val Loss: 0.3278, Val Accuracy: 0.8695\n",
      "Current learning rate: 0.001000\n",
      "Epoch [4/40], Loss: 0.3301, Accuracy: 0.8725, Val Loss: 0.3302, Val Accuracy: 0.8695\n",
      "Current learning rate: 0.001000\n",
      "Epoch [5/40], Loss: 0.3287, Accuracy: 0.8725, Val Loss: 0.3283, Val Accuracy: 0.8695\n",
      "Current learning rate: 0.001000\n",
      "Epoch [6/40], Loss: 0.3274, Accuracy: 0.8726, Val Loss: 0.3273, Val Accuracy: 0.8700\n",
      "Current learning rate: 0.001000\n",
      "Epoch [7/40], Loss: 0.3269, Accuracy: 0.8727, Val Loss: 0.3269, Val Accuracy: 0.8696\n",
      "Current learning rate: 0.001000\n",
      "Epoch [8/40], Loss: 0.3264, Accuracy: 0.8729, Val Loss: 0.3291, Val Accuracy: 0.8698\n",
      "Current learning rate: 0.001000\n",
      "Epoch [9/40], Loss: 0.3256, Accuracy: 0.8729, Val Loss: 0.3260, Val Accuracy: 0.8704\n",
      "Current learning rate: 0.001000\n",
      "Epoch [10/40], Loss: 0.3244, Accuracy: 0.8729, Val Loss: 0.3250, Val Accuracy: 0.8704\n",
      "Current learning rate: 0.001000\n",
      "Epoch [11/40], Loss: 0.3233, Accuracy: 0.8729, Val Loss: 0.3236, Val Accuracy: 0.8702\n",
      "Current learning rate: 0.001000\n",
      "Epoch [12/40], Loss: 0.3226, Accuracy: 0.8729, Val Loss: 0.3211, Val Accuracy: 0.8707\n",
      "Current learning rate: 0.001000\n",
      "Epoch [13/40], Loss: 0.3218, Accuracy: 0.8730, Val Loss: 0.3248, Val Accuracy: 0.8699\n",
      "Current learning rate: 0.001000\n",
      "Epoch [14/40], Loss: 0.3219, Accuracy: 0.8730, Val Loss: 0.3298, Val Accuracy: 0.8706\n",
      "Current learning rate: 0.001000\n",
      "Epoch [15/40], Loss: 0.3211, Accuracy: 0.8731, Val Loss: 0.3232, Val Accuracy: 0.8706\n",
      "Current learning rate: 0.001000\n",
      "Epoch [16/40], Loss: 0.3216, Accuracy: 0.8730, Val Loss: 0.3208, Val Accuracy: 0.8705\n",
      "Current learning rate: 0.001000\n",
      "Epoch [17/40], Loss: 0.3210, Accuracy: 0.8729, Val Loss: 0.3232, Val Accuracy: 0.8704\n",
      "Current learning rate: 0.001000\n",
      "Epoch [18/40], Loss: 0.3210, Accuracy: 0.8728, Val Loss: 0.3241, Val Accuracy: 0.8700\n",
      "Current learning rate: 0.001000\n",
      "Epoch [19/40], Loss: 0.3201, Accuracy: 0.8728, Val Loss: 0.3198, Val Accuracy: 0.8707\n",
      "Current learning rate: 0.001000\n",
      "Epoch [20/40], Loss: 0.3198, Accuracy: 0.8730, Val Loss: 0.3229, Val Accuracy: 0.8701\n",
      "Current learning rate: 0.001000\n",
      "Epoch [21/40], Loss: 0.3195, Accuracy: 0.8727, Val Loss: 0.3215, Val Accuracy: 0.8708\n",
      "Current learning rate: 0.001000\n",
      "Epoch [22/40], Loss: 0.3195, Accuracy: 0.8728, Val Loss: 0.3207, Val Accuracy: 0.8706\n",
      "Current learning rate: 0.001000\n",
      "Epoch [23/40], Loss: 0.3189, Accuracy: 0.8727, Val Loss: 0.3207, Val Accuracy: 0.8703\n",
      "Current learning rate: 0.001000\n",
      "Epoch [24/40], Loss: 0.3193, Accuracy: 0.8729, Val Loss: 0.3231, Val Accuracy: 0.8699\n",
      "Current learning rate: 0.001000\n",
      "Epoch [25/40], Loss: 0.3187, Accuracy: 0.8726, Val Loss: 0.3190, Val Accuracy: 0.8703\n",
      "Current learning rate: 0.001000\n",
      "Epoch [26/40], Loss: 0.3189, Accuracy: 0.8729, Val Loss: 0.3192, Val Accuracy: 0.8703\n",
      "Current learning rate: 0.001000\n",
      "Epoch [27/40], Loss: 0.3185, Accuracy: 0.8730, Val Loss: 0.3175, Val Accuracy: 0.8706\n",
      "Current learning rate: 0.001000\n",
      "Epoch [28/40], Loss: 0.3182, Accuracy: 0.8730, Val Loss: 0.3191, Val Accuracy: 0.8706\n",
      "Current learning rate: 0.001000\n",
      "Epoch [29/40], Loss: 0.3179, Accuracy: 0.8731, Val Loss: 0.3194, Val Accuracy: 0.8705\n",
      "Current learning rate: 0.001000\n",
      "Epoch [30/40], Loss: 0.3179, Accuracy: 0.8731, Val Loss: 0.3243, Val Accuracy: 0.8707\n",
      "Current learning rate: 0.001000\n",
      "Epoch [31/40], Loss: 0.3180, Accuracy: 0.8731, Val Loss: 0.3238, Val Accuracy: 0.8709\n",
      "Current learning rate: 0.001000\n",
      "Epoch [32/40], Loss: 0.3175, Accuracy: 0.8731, Val Loss: 0.3180, Val Accuracy: 0.8708\n",
      "Current learning rate: 0.001000\n",
      "Epoch [33/40], Loss: 0.3173, Accuracy: 0.8731, Val Loss: 0.3185, Val Accuracy: 0.8708\n",
      "Current learning rate: 0.001000\n",
      "Epoch [34/40], Loss: 0.3174, Accuracy: 0.8728, Val Loss: 0.3206, Val Accuracy: 0.8707\n",
      "Current learning rate: 0.001000\n",
      "Epoch [35/40], Loss: 0.3177, Accuracy: 0.8729, Val Loss: 0.3174, Val Accuracy: 0.8701\n",
      "Current learning rate: 0.001000\n",
      "Epoch [36/40], Loss: 0.3170, Accuracy: 0.8731, Val Loss: 0.3158, Val Accuracy: 0.8700\n",
      "Current learning rate: 0.001000\n",
      "Epoch [37/40], Loss: 0.3169, Accuracy: 0.8729, Val Loss: 0.3170, Val Accuracy: 0.8707\n",
      "Current learning rate: 0.001000\n",
      "Epoch [38/40], Loss: 0.3166, Accuracy: 0.8731, Val Loss: 0.3197, Val Accuracy: 0.8706\n",
      "Current learning rate: 0.001000\n",
      "Epoch [39/40], Loss: 0.3168, Accuracy: 0.8730, Val Loss: 0.3200, Val Accuracy: 0.8704\n",
      "Current learning rate: 0.001000\n",
      "Epoch [40/40], Loss: 0.3169, Accuracy: 0.8731, Val Loss: 0.3207, Val Accuracy: 0.8704\n",
      "Model saved in acc_cnn_training/2024_10_09_22_12_04_431794/sliding_window_trained.pth\n"
     ]
    }
   ],
   "source": [
    "trainer.train(criterion=criterion, optimizer=optimizer, scheduler=scheduler, num_epochs=40)"
   ]
  },
  {
   "cell_type": "markdown",
   "metadata": {},
   "source": [
    "## Making inferences on unseen datasets"
   ]
  },
  {
   "cell_type": "code",
   "execution_count": 16,
   "metadata": {},
   "outputs": [
    {
     "name": "stdout",
     "output_type": "stream",
     "text": [
      "Shape of X before reshaping: (76494, 6, 2)\n",
      "Shape of Y before reshaping: (76494,)\n"
     ]
    },
    {
     "name": "stderr",
     "output_type": "stream",
     "text": [
      "/home/trijya/anaconda3/envs/trajectory310/lib/python3.10/site-packages/trajectorylib/ml/trainer.py:214: FutureWarning: You are using `torch.load` with `weights_only=False` (the current default value), which uses the default pickle module implicitly. It is possible to construct malicious pickle data which will execute arbitrary code during unpickling (See https://github.com/pytorch/pytorch/blob/main/SECURITY.md#untrusted-models for more details). In a future release, the default value for `weights_only` will be flipped to `True`. This limits the functions that could be executed during unpickling. Arbitrary objects will no longer be allowed to be loaded via this mode unless they are explicitly allowlisted by the user via `torch.serialization.add_safe_globals`. We recommend you start setting `weights_only=True` for any use case where you don't have full control of the loaded file. Please open an issue on GitHub for any issues related to this experimental feature.\n",
      "  self.model.load_state_dict(torch.load(self.torch_model_path))\n"
     ]
    },
    {
     "name": "stdout",
     "output_type": "stream",
     "text": [
      "Shape of X before reshaping: (76494, 6, 2)\n",
      "Shape of Y before reshaping: (76494,)\n",
      "Test Loss: 0.3798, Accuracy: 0.6993\n"
     ]
    },
    {
     "data": {
      "text/plain": [
       "0.6992966768635449"
      ]
     },
     "execution_count": 16,
     "metadata": {},
     "output_type": "execute_result"
    }
   ],
   "source": [
    "testdata_processor = SlidingWindowDataProcessor(test_set, window_size=window_size)\n",
    "testdata_processor.process_file_list()\n",
    "trainer.predict(testdata_processor)"
   ]
  },
  {
   "cell_type": "markdown",
   "metadata": {},
   "source": [
    "## Making inferences on unseen datasets by loading ONNX"
   ]
  },
  {
   "cell_type": "code",
   "execution_count": 17,
   "metadata": {},
   "outputs": [
    {
     "name": "stdout",
     "output_type": "stream",
     "text": [
      "Shape of X before reshaping: (76494, 6, 2)\n",
      "Shape of Y before reshaping: (76494,)\n",
      "Test Loss: 0.3798, Accuracy: 0.6993\n"
     ]
    },
    {
     "data": {
      "text/plain": [
       "0.6992966768635449"
      ]
     },
     "execution_count": 17,
     "metadata": {},
     "output_type": "execute_result"
    }
   ],
   "source": [
    "trainer.predict_onnx(testdata_processor)"
   ]
  },
  {
   "cell_type": "code",
   "execution_count": null,
   "metadata": {},
   "outputs": [],
   "source": []
  },
  {
   "cell_type": "code",
   "execution_count": null,
   "metadata": {},
   "outputs": [],
   "source": []
  }
 ],
 "metadata": {
  "kernelspec": {
   "display_name": "Python 3 (ipykernel)",
   "language": "python",
   "name": "python3"
  },
  "language_info": {
   "codemirror_mode": {
    "name": "ipython",
    "version": 3
   },
   "file_extension": ".py",
   "mimetype": "text/x-python",
   "name": "python",
   "nbconvert_exporter": "python",
   "pygments_lexer": "ipython3",
   "version": "3.10.15"
  }
 },
 "nbformat": 4,
 "nbformat_minor": 4
}
